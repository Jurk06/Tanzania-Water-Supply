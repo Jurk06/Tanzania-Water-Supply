{
  "cells": [
    {
      "metadata": {
        "_uuid": "8f2839f25d086af736a60e9eeb907d3b93b6e0e5",
        "_cell_guid": "b1076dfc-b9ad-4769-8c92-a6c4dae69d19",
        "trusted": true
      },
      "cell_type": "code",
      "source": "# This Python 3 environment comes with many helpful analytics libraries installed\n# It is defined by the kaggle/python docker image: https://github.com/kaggle/docker-python\n# For example, here's several helpful packages to load in \n\nimport numpy as np # linear algebra\nimport pandas as pd # data processing, CSV file I/O (e.g. pd.read_csv)\n\n# Input data files are available in the \"../input/\" directory.\n# For example, running this (by clicking run or pressing Shift+Enter) will list the files in the input directory\n\nimport os\nprint(os.listdir(\"../input\"))\n\n# Any results you write to the current directory are saved as output.",
      "execution_count": 1,
      "outputs": [
        {
          "output_type": "stream",
          "text": "['Pump_it_Up_Data_Mining_the_Water_Table_-_Training_set_values.csv', 'Pump_it_Up_Data_Mining_the_Water_Table_-_Test_set_values.csv', 'Pump_it_Up_Data_Mining_the_Water_Table_-_Training_set_labels.csv', 'Pump_it_Up_Data_Mining_the_Water_Table_-_Submission_format.csv']\n",
          "name": "stdout"
        }
      ]
    },
    {
      "metadata": {
        "_cell_guid": "79c7e3d0-c299-4dcb-8224-4455121ee9b0",
        "_uuid": "d629ff2d2480ee46fbb7e2d37f6b5fab8052498a",
        "trusted": true
      },
      "cell_type": "code",
      "source": "submission=pd.read_csv('../input/Pump_it_Up_Data_Mining_the_Water_Table_-_Submission_format.csv')",
      "execution_count": 3,
      "outputs": []
    },
    {
      "metadata": {
        "trusted": true,
        "_uuid": "632a3df3c6decb8165dc974dc54af6f413cc8682"
      },
      "cell_type": "code",
      "source": "submission.head()",
      "execution_count": 4,
      "outputs": [
        {
          "output_type": "execute_result",
          "execution_count": 4,
          "data": {
            "text/plain": "      id     status_group\n0  50785  predicted label\n1  51630  predicted label\n2  17168  predicted label\n3  45559  predicted label\n4  49871  predicted label",
            "text/html": "<div>\n<style scoped>\n    .dataframe tbody tr th:only-of-type {\n        vertical-align: middle;\n    }\n\n    .dataframe tbody tr th {\n        vertical-align: top;\n    }\n\n    .dataframe thead th {\n        text-align: right;\n    }\n</style>\n<table border=\"1\" class=\"dataframe\">\n  <thead>\n    <tr style=\"text-align: right;\">\n      <th></th>\n      <th>id</th>\n      <th>status_group</th>\n    </tr>\n  </thead>\n  <tbody>\n    <tr>\n      <th>0</th>\n      <td>50785</td>\n      <td>predicted label</td>\n    </tr>\n    <tr>\n      <th>1</th>\n      <td>51630</td>\n      <td>predicted label</td>\n    </tr>\n    <tr>\n      <th>2</th>\n      <td>17168</td>\n      <td>predicted label</td>\n    </tr>\n    <tr>\n      <th>3</th>\n      <td>45559</td>\n      <td>predicted label</td>\n    </tr>\n    <tr>\n      <th>4</th>\n      <td>49871</td>\n      <td>predicted label</td>\n    </tr>\n  </tbody>\n</table>\n</div>"
          },
          "metadata": {}
        }
      ]
    },
    {
      "metadata": {
        "trusted": true,
        "_uuid": "14765c90436d85b0bf23ce993f671f4b93a7711c"
      },
      "cell_type": "code",
      "source": "test=pd.read_csv('../input/Pump_it_Up_Data_Mining_the_Water_Table_-_Test_set_values.csv')",
      "execution_count": 5,
      "outputs": []
    },
    {
      "metadata": {
        "trusted": true,
        "_uuid": "2c76041b4a348d7f1978d12079ed4d46cc2b12e1"
      },
      "cell_type": "code",
      "source": "test.head()",
      "execution_count": 6,
      "outputs": [
        {
          "output_type": "execute_result",
          "execution_count": 6,
          "data": {
            "text/plain": "      id          ...            waterpoint_type_group\n0  50785          ...                            other\n1  51630          ...               communal standpipe\n2  17168          ...                            other\n3  45559          ...                            other\n4  49871          ...               communal standpipe\n\n[5 rows x 40 columns]",
            "text/html": "<div>\n<style scoped>\n    .dataframe tbody tr th:only-of-type {\n        vertical-align: middle;\n    }\n\n    .dataframe tbody tr th {\n        vertical-align: top;\n    }\n\n    .dataframe thead th {\n        text-align: right;\n    }\n</style>\n<table border=\"1\" class=\"dataframe\">\n  <thead>\n    <tr style=\"text-align: right;\">\n      <th></th>\n      <th>id</th>\n      <th>amount_tsh</th>\n      <th>date_recorded</th>\n      <th>funder</th>\n      <th>gps_height</th>\n      <th>installer</th>\n      <th>longitude</th>\n      <th>latitude</th>\n      <th>wpt_name</th>\n      <th>num_private</th>\n      <th>basin</th>\n      <th>subvillage</th>\n      <th>region</th>\n      <th>region_code</th>\n      <th>district_code</th>\n      <th>lga</th>\n      <th>ward</th>\n      <th>population</th>\n      <th>public_meeting</th>\n      <th>recorded_by</th>\n      <th>scheme_management</th>\n      <th>scheme_name</th>\n      <th>permit</th>\n      <th>construction_year</th>\n      <th>extraction_type</th>\n      <th>extraction_type_group</th>\n      <th>extraction_type_class</th>\n      <th>management</th>\n      <th>management_group</th>\n      <th>payment</th>\n      <th>payment_type</th>\n      <th>water_quality</th>\n      <th>quality_group</th>\n      <th>quantity</th>\n      <th>quantity_group</th>\n      <th>source</th>\n      <th>source_type</th>\n      <th>source_class</th>\n      <th>waterpoint_type</th>\n      <th>waterpoint_type_group</th>\n    </tr>\n  </thead>\n  <tbody>\n    <tr>\n      <th>0</th>\n      <td>50785</td>\n      <td>0.0</td>\n      <td>2013-02-04</td>\n      <td>Dmdd</td>\n      <td>1996</td>\n      <td>DMDD</td>\n      <td>35.290799</td>\n      <td>-4.059696</td>\n      <td>Dinamu Secondary School</td>\n      <td>0</td>\n      <td>Internal</td>\n      <td>Magoma</td>\n      <td>Manyara</td>\n      <td>21</td>\n      <td>3</td>\n      <td>Mbulu</td>\n      <td>Bashay</td>\n      <td>321</td>\n      <td>True</td>\n      <td>GeoData Consultants Ltd</td>\n      <td>Parastatal</td>\n      <td>NaN</td>\n      <td>True</td>\n      <td>2012</td>\n      <td>other</td>\n      <td>other</td>\n      <td>other</td>\n      <td>parastatal</td>\n      <td>parastatal</td>\n      <td>never pay</td>\n      <td>never pay</td>\n      <td>soft</td>\n      <td>good</td>\n      <td>seasonal</td>\n      <td>seasonal</td>\n      <td>rainwater harvesting</td>\n      <td>rainwater harvesting</td>\n      <td>surface</td>\n      <td>other</td>\n      <td>other</td>\n    </tr>\n    <tr>\n      <th>1</th>\n      <td>51630</td>\n      <td>0.0</td>\n      <td>2013-02-04</td>\n      <td>Government Of Tanzania</td>\n      <td>1569</td>\n      <td>DWE</td>\n      <td>36.656709</td>\n      <td>-3.309214</td>\n      <td>Kimnyak</td>\n      <td>0</td>\n      <td>Pangani</td>\n      <td>Kimnyak</td>\n      <td>Arusha</td>\n      <td>2</td>\n      <td>2</td>\n      <td>Arusha Rural</td>\n      <td>Kimnyaki</td>\n      <td>300</td>\n      <td>True</td>\n      <td>GeoData Consultants Ltd</td>\n      <td>VWC</td>\n      <td>TPRI pipe line</td>\n      <td>True</td>\n      <td>2000</td>\n      <td>gravity</td>\n      <td>gravity</td>\n      <td>gravity</td>\n      <td>vwc</td>\n      <td>user-group</td>\n      <td>never pay</td>\n      <td>never pay</td>\n      <td>soft</td>\n      <td>good</td>\n      <td>insufficient</td>\n      <td>insufficient</td>\n      <td>spring</td>\n      <td>spring</td>\n      <td>groundwater</td>\n      <td>communal standpipe</td>\n      <td>communal standpipe</td>\n    </tr>\n    <tr>\n      <th>2</th>\n      <td>17168</td>\n      <td>0.0</td>\n      <td>2013-02-01</td>\n      <td>NaN</td>\n      <td>1567</td>\n      <td>NaN</td>\n      <td>34.767863</td>\n      <td>-5.004344</td>\n      <td>Puma Secondary</td>\n      <td>0</td>\n      <td>Internal</td>\n      <td>Msatu</td>\n      <td>Singida</td>\n      <td>13</td>\n      <td>2</td>\n      <td>Singida Rural</td>\n      <td>Puma</td>\n      <td>500</td>\n      <td>True</td>\n      <td>GeoData Consultants Ltd</td>\n      <td>VWC</td>\n      <td>P</td>\n      <td>NaN</td>\n      <td>2010</td>\n      <td>other</td>\n      <td>other</td>\n      <td>other</td>\n      <td>vwc</td>\n      <td>user-group</td>\n      <td>never pay</td>\n      <td>never pay</td>\n      <td>soft</td>\n      <td>good</td>\n      <td>insufficient</td>\n      <td>insufficient</td>\n      <td>rainwater harvesting</td>\n      <td>rainwater harvesting</td>\n      <td>surface</td>\n      <td>other</td>\n      <td>other</td>\n    </tr>\n    <tr>\n      <th>3</th>\n      <td>45559</td>\n      <td>0.0</td>\n      <td>2013-01-22</td>\n      <td>Finn Water</td>\n      <td>267</td>\n      <td>FINN WATER</td>\n      <td>38.058046</td>\n      <td>-9.418672</td>\n      <td>Kwa Mzee Pange</td>\n      <td>0</td>\n      <td>Ruvuma / Southern Coast</td>\n      <td>Kipindimbi</td>\n      <td>Lindi</td>\n      <td>80</td>\n      <td>43</td>\n      <td>Liwale</td>\n      <td>Mkutano</td>\n      <td>250</td>\n      <td>NaN</td>\n      <td>GeoData Consultants Ltd</td>\n      <td>VWC</td>\n      <td>NaN</td>\n      <td>True</td>\n      <td>1987</td>\n      <td>other</td>\n      <td>other</td>\n      <td>other</td>\n      <td>vwc</td>\n      <td>user-group</td>\n      <td>unknown</td>\n      <td>unknown</td>\n      <td>soft</td>\n      <td>good</td>\n      <td>dry</td>\n      <td>dry</td>\n      <td>shallow well</td>\n      <td>shallow well</td>\n      <td>groundwater</td>\n      <td>other</td>\n      <td>other</td>\n    </tr>\n    <tr>\n      <th>4</th>\n      <td>49871</td>\n      <td>500.0</td>\n      <td>2013-03-27</td>\n      <td>Bruder</td>\n      <td>1260</td>\n      <td>BRUDER</td>\n      <td>35.006123</td>\n      <td>-10.950412</td>\n      <td>Kwa Mzee Turuka</td>\n      <td>0</td>\n      <td>Ruvuma / Southern Coast</td>\n      <td>Losonga</td>\n      <td>Ruvuma</td>\n      <td>10</td>\n      <td>3</td>\n      <td>Mbinga</td>\n      <td>Mbinga Urban</td>\n      <td>60</td>\n      <td>NaN</td>\n      <td>GeoData Consultants Ltd</td>\n      <td>Water Board</td>\n      <td>BRUDER</td>\n      <td>True</td>\n      <td>2000</td>\n      <td>gravity</td>\n      <td>gravity</td>\n      <td>gravity</td>\n      <td>water board</td>\n      <td>user-group</td>\n      <td>pay monthly</td>\n      <td>monthly</td>\n      <td>soft</td>\n      <td>good</td>\n      <td>enough</td>\n      <td>enough</td>\n      <td>spring</td>\n      <td>spring</td>\n      <td>groundwater</td>\n      <td>communal standpipe</td>\n      <td>communal standpipe</td>\n    </tr>\n  </tbody>\n</table>\n</div>"
          },
          "metadata": {}
        }
      ]
    },
    {
      "metadata": {
        "trusted": true,
        "_uuid": "6daabed778f139cf2fb972e8e3902af9216a6393"
      },
      "cell_type": "code",
      "source": "test.shape",
      "execution_count": 7,
      "outputs": [
        {
          "output_type": "execute_result",
          "execution_count": 7,
          "data": {
            "text/plain": "(14850, 40)"
          },
          "metadata": {}
        }
      ]
    },
    {
      "metadata": {
        "trusted": true,
        "_uuid": "d1551cfabf2e8e52007a521b73221476db37f686"
      },
      "cell_type": "code",
      "source": "train_set=pd.read_csv('../input/Pump_it_Up_Data_Mining_the_Water_Table_-_Training_set_labels.csv')",
      "execution_count": 8,
      "outputs": []
    },
    {
      "metadata": {
        "trusted": true,
        "_uuid": "e25206a0249bc3c5a357c7f91f95d0f65fd02955"
      },
      "cell_type": "code",
      "source": "train_set.head()",
      "execution_count": 9,
      "outputs": [
        {
          "output_type": "execute_result",
          "execution_count": 9,
          "data": {
            "text/plain": "      id    status_group\n0  69572      functional\n1   8776      functional\n2  34310      functional\n3  67743  non functional\n4  19728      functional",
            "text/html": "<div>\n<style scoped>\n    .dataframe tbody tr th:only-of-type {\n        vertical-align: middle;\n    }\n\n    .dataframe tbody tr th {\n        vertical-align: top;\n    }\n\n    .dataframe thead th {\n        text-align: right;\n    }\n</style>\n<table border=\"1\" class=\"dataframe\">\n  <thead>\n    <tr style=\"text-align: right;\">\n      <th></th>\n      <th>id</th>\n      <th>status_group</th>\n    </tr>\n  </thead>\n  <tbody>\n    <tr>\n      <th>0</th>\n      <td>69572</td>\n      <td>functional</td>\n    </tr>\n    <tr>\n      <th>1</th>\n      <td>8776</td>\n      <td>functional</td>\n    </tr>\n    <tr>\n      <th>2</th>\n      <td>34310</td>\n      <td>functional</td>\n    </tr>\n    <tr>\n      <th>3</th>\n      <td>67743</td>\n      <td>non functional</td>\n    </tr>\n    <tr>\n      <th>4</th>\n      <td>19728</td>\n      <td>functional</td>\n    </tr>\n  </tbody>\n</table>\n</div>"
          },
          "metadata": {}
        }
      ]
    },
    {
      "metadata": {
        "trusted": true,
        "_uuid": "37156fa4a471b3c6058906ba343f426ef3f3fffe"
      },
      "cell_type": "code",
      "source": "train_set.shape",
      "execution_count": 10,
      "outputs": [
        {
          "output_type": "execute_result",
          "execution_count": 10,
          "data": {
            "text/plain": "(59400, 2)"
          },
          "metadata": {}
        }
      ]
    },
    {
      "metadata": {
        "trusted": true,
        "_uuid": "913946f671ec9fec4ad00342cef9b5f35274017a"
      },
      "cell_type": "code",
      "source": "train=pd.read_csv('../input/Pump_it_Up_Data_Mining_the_Water_Table_-_Training_set_values.csv')",
      "execution_count": 11,
      "outputs": []
    },
    {
      "metadata": {
        "trusted": true,
        "_uuid": "83a953193a627bee43f59b871e668dfe413eec22"
      },
      "cell_type": "code",
      "source": "train.head()",
      "execution_count": 12,
      "outputs": [
        {
          "output_type": "execute_result",
          "execution_count": 12,
          "data": {
            "text/plain": "      id          ...            waterpoint_type_group\n0  69572          ...               communal standpipe\n1   8776          ...               communal standpipe\n2  34310          ...               communal standpipe\n3  67743          ...               communal standpipe\n4  19728          ...               communal standpipe\n\n[5 rows x 40 columns]",
            "text/html": "<div>\n<style scoped>\n    .dataframe tbody tr th:only-of-type {\n        vertical-align: middle;\n    }\n\n    .dataframe tbody tr th {\n        vertical-align: top;\n    }\n\n    .dataframe thead th {\n        text-align: right;\n    }\n</style>\n<table border=\"1\" class=\"dataframe\">\n  <thead>\n    <tr style=\"text-align: right;\">\n      <th></th>\n      <th>id</th>\n      <th>amount_tsh</th>\n      <th>date_recorded</th>\n      <th>funder</th>\n      <th>gps_height</th>\n      <th>installer</th>\n      <th>longitude</th>\n      <th>latitude</th>\n      <th>wpt_name</th>\n      <th>num_private</th>\n      <th>basin</th>\n      <th>subvillage</th>\n      <th>region</th>\n      <th>region_code</th>\n      <th>district_code</th>\n      <th>lga</th>\n      <th>ward</th>\n      <th>population</th>\n      <th>public_meeting</th>\n      <th>recorded_by</th>\n      <th>scheme_management</th>\n      <th>scheme_name</th>\n      <th>permit</th>\n      <th>construction_year</th>\n      <th>extraction_type</th>\n      <th>extraction_type_group</th>\n      <th>extraction_type_class</th>\n      <th>management</th>\n      <th>management_group</th>\n      <th>payment</th>\n      <th>payment_type</th>\n      <th>water_quality</th>\n      <th>quality_group</th>\n      <th>quantity</th>\n      <th>quantity_group</th>\n      <th>source</th>\n      <th>source_type</th>\n      <th>source_class</th>\n      <th>waterpoint_type</th>\n      <th>waterpoint_type_group</th>\n    </tr>\n  </thead>\n  <tbody>\n    <tr>\n      <th>0</th>\n      <td>69572</td>\n      <td>6000.0</td>\n      <td>2011-03-14</td>\n      <td>Roman</td>\n      <td>1390</td>\n      <td>Roman</td>\n      <td>34.938093</td>\n      <td>-9.856322</td>\n      <td>none</td>\n      <td>0</td>\n      <td>Lake Nyasa</td>\n      <td>Mnyusi B</td>\n      <td>Iringa</td>\n      <td>11</td>\n      <td>5</td>\n      <td>Ludewa</td>\n      <td>Mundindi</td>\n      <td>109</td>\n      <td>True</td>\n      <td>GeoData Consultants Ltd</td>\n      <td>VWC</td>\n      <td>Roman</td>\n      <td>False</td>\n      <td>1999</td>\n      <td>gravity</td>\n      <td>gravity</td>\n      <td>gravity</td>\n      <td>vwc</td>\n      <td>user-group</td>\n      <td>pay annually</td>\n      <td>annually</td>\n      <td>soft</td>\n      <td>good</td>\n      <td>enough</td>\n      <td>enough</td>\n      <td>spring</td>\n      <td>spring</td>\n      <td>groundwater</td>\n      <td>communal standpipe</td>\n      <td>communal standpipe</td>\n    </tr>\n    <tr>\n      <th>1</th>\n      <td>8776</td>\n      <td>0.0</td>\n      <td>2013-03-06</td>\n      <td>Grumeti</td>\n      <td>1399</td>\n      <td>GRUMETI</td>\n      <td>34.698766</td>\n      <td>-2.147466</td>\n      <td>Zahanati</td>\n      <td>0</td>\n      <td>Lake Victoria</td>\n      <td>Nyamara</td>\n      <td>Mara</td>\n      <td>20</td>\n      <td>2</td>\n      <td>Serengeti</td>\n      <td>Natta</td>\n      <td>280</td>\n      <td>NaN</td>\n      <td>GeoData Consultants Ltd</td>\n      <td>Other</td>\n      <td>NaN</td>\n      <td>True</td>\n      <td>2010</td>\n      <td>gravity</td>\n      <td>gravity</td>\n      <td>gravity</td>\n      <td>wug</td>\n      <td>user-group</td>\n      <td>never pay</td>\n      <td>never pay</td>\n      <td>soft</td>\n      <td>good</td>\n      <td>insufficient</td>\n      <td>insufficient</td>\n      <td>rainwater harvesting</td>\n      <td>rainwater harvesting</td>\n      <td>surface</td>\n      <td>communal standpipe</td>\n      <td>communal standpipe</td>\n    </tr>\n    <tr>\n      <th>2</th>\n      <td>34310</td>\n      <td>25.0</td>\n      <td>2013-02-25</td>\n      <td>Lottery Club</td>\n      <td>686</td>\n      <td>World vision</td>\n      <td>37.460664</td>\n      <td>-3.821329</td>\n      <td>Kwa Mahundi</td>\n      <td>0</td>\n      <td>Pangani</td>\n      <td>Majengo</td>\n      <td>Manyara</td>\n      <td>21</td>\n      <td>4</td>\n      <td>Simanjiro</td>\n      <td>Ngorika</td>\n      <td>250</td>\n      <td>True</td>\n      <td>GeoData Consultants Ltd</td>\n      <td>VWC</td>\n      <td>Nyumba ya mungu pipe scheme</td>\n      <td>True</td>\n      <td>2009</td>\n      <td>gravity</td>\n      <td>gravity</td>\n      <td>gravity</td>\n      <td>vwc</td>\n      <td>user-group</td>\n      <td>pay per bucket</td>\n      <td>per bucket</td>\n      <td>soft</td>\n      <td>good</td>\n      <td>enough</td>\n      <td>enough</td>\n      <td>dam</td>\n      <td>dam</td>\n      <td>surface</td>\n      <td>communal standpipe multiple</td>\n      <td>communal standpipe</td>\n    </tr>\n    <tr>\n      <th>3</th>\n      <td>67743</td>\n      <td>0.0</td>\n      <td>2013-01-28</td>\n      <td>Unicef</td>\n      <td>263</td>\n      <td>UNICEF</td>\n      <td>38.486161</td>\n      <td>-11.155298</td>\n      <td>Zahanati Ya Nanyumbu</td>\n      <td>0</td>\n      <td>Ruvuma / Southern Coast</td>\n      <td>Mahakamani</td>\n      <td>Mtwara</td>\n      <td>90</td>\n      <td>63</td>\n      <td>Nanyumbu</td>\n      <td>Nanyumbu</td>\n      <td>58</td>\n      <td>True</td>\n      <td>GeoData Consultants Ltd</td>\n      <td>VWC</td>\n      <td>NaN</td>\n      <td>True</td>\n      <td>1986</td>\n      <td>submersible</td>\n      <td>submersible</td>\n      <td>submersible</td>\n      <td>vwc</td>\n      <td>user-group</td>\n      <td>never pay</td>\n      <td>never pay</td>\n      <td>soft</td>\n      <td>good</td>\n      <td>dry</td>\n      <td>dry</td>\n      <td>machine dbh</td>\n      <td>borehole</td>\n      <td>groundwater</td>\n      <td>communal standpipe multiple</td>\n      <td>communal standpipe</td>\n    </tr>\n    <tr>\n      <th>4</th>\n      <td>19728</td>\n      <td>0.0</td>\n      <td>2011-07-13</td>\n      <td>Action In A</td>\n      <td>0</td>\n      <td>Artisan</td>\n      <td>31.130847</td>\n      <td>-1.825359</td>\n      <td>Shuleni</td>\n      <td>0</td>\n      <td>Lake Victoria</td>\n      <td>Kyanyamisa</td>\n      <td>Kagera</td>\n      <td>18</td>\n      <td>1</td>\n      <td>Karagwe</td>\n      <td>Nyakasimbi</td>\n      <td>0</td>\n      <td>True</td>\n      <td>GeoData Consultants Ltd</td>\n      <td>NaN</td>\n      <td>NaN</td>\n      <td>True</td>\n      <td>0</td>\n      <td>gravity</td>\n      <td>gravity</td>\n      <td>gravity</td>\n      <td>other</td>\n      <td>other</td>\n      <td>never pay</td>\n      <td>never pay</td>\n      <td>soft</td>\n      <td>good</td>\n      <td>seasonal</td>\n      <td>seasonal</td>\n      <td>rainwater harvesting</td>\n      <td>rainwater harvesting</td>\n      <td>surface</td>\n      <td>communal standpipe</td>\n      <td>communal standpipe</td>\n    </tr>\n  </tbody>\n</table>\n</div>"
          },
          "metadata": {}
        }
      ]
    },
    {
      "metadata": {
        "trusted": true,
        "_uuid": "b0dc72152c0c0439a6bfda4a957243f0adb93036"
      },
      "cell_type": "code",
      "source": "train.shape",
      "execution_count": 13,
      "outputs": [
        {
          "output_type": "execute_result",
          "execution_count": 13,
          "data": {
            "text/plain": "(59400, 40)"
          },
          "metadata": {}
        }
      ]
    },
    {
      "metadata": {
        "trusted": true,
        "_uuid": "90d472908d26589cc2b70ae3249f3668c1a19242"
      },
      "cell_type": "code",
      "source": "import matplotlib.pyplot as plt",
      "execution_count": 14,
      "outputs": []
    },
    {
      "metadata": {
        "trusted": true,
        "_uuid": "1eb59e035ea8ceea3a3a54ee4a2a717363bfc5b5"
      },
      "cell_type": "code",
      "source": "missing=train.isnull().sum()\nmissing.plot(kind='bar', figsize=(15,5))\nplt.legend()",
      "execution_count": 21,
      "outputs": [
        {
          "output_type": "execute_result",
          "execution_count": 21,
          "data": {
            "text/plain": "<matplotlib.legend.Legend at 0x7f5463fe1668>"
          },
          "metadata": {}
        },
        {
          "output_type": "display_data",
          "data": {
            "text/plain": "<Figure size 1080x360 with 1 Axes>",
            "image/png": "[encoded data removed]"
          },
          "metadata": {
            "needs_background": "light"
          }
        }
      ]
    },
    {
      "metadata": {
        "trusted": true,
        "_uuid": "d29e9c172d97cb6a42294500ae52f4cf9b797360"
      },
      "cell_type": "code",
      "source": "train.dtypes",
      "execution_count": 23,
      "outputs": [
        {
          "output_type": "execute_result",
          "execution_count": 23,
          "data": {
            "text/plain": "id                         int64\namount_tsh               float64\ndate_recorded             object\nfunder                    object\ngps_height                 int64\ninstaller                 object\nlongitude                float64\nlatitude                 float64\nwpt_name                  object\nnum_private                int64\nbasin                     object\nsubvillage                object\nregion                    object\nregion_code                int64\ndistrict_code              int64\nlga                       object\nward                      object\npopulation                 int64\npublic_meeting            object\nrecorded_by               object\nscheme_management         object\nscheme_name               object\npermit                    object\nconstruction_year          int64\nextraction_type           object\nextraction_type_group     object\nextraction_type_class     object\nmanagement                object\nmanagement_group          object\npayment                   object\npayment_type              object\nwater_quality             object\nquality_group             object\nquantity                  object\nquantity_group            object\nsource                    object\nsource_type               object\nsource_class              object\nwaterpoint_type           object\nwaterpoint_type_group     object\ndtype: object"
          },
          "metadata": {}
        }
      ]
    },
    {
      "metadata": {
        "trusted": true,
        "_uuid": "f744ffaa739d7a99ad361c88e1f3b58a1d6f9b72"
      },
      "cell_type": "code",
      "source": "pd.to_datetime(train['date_recorded'], errors='coerce')",
      "execution_count": 27,
      "outputs": [
        {
          "output_type": "execute_result",
          "execution_count": 27,
          "data": {
            "text/plain": "0       2011-03-14\n1       2013-03-06\n2       2013-02-25\n3       2013-01-28\n4       2011-07-13\n5       2011-03-13\n6       2012-10-01\n7       2012-10-09\n8       2012-11-03\n9       2011-08-03\n10      2011-02-20\n11      2013-02-18\n12      2012-10-14\n13      2013-03-15\n14      2012-10-20\n15      2011-08-04\n16      2011-07-04\n17      2011-09-04\n18      2011-07-22\n19      2011-02-22\n20      2011-02-27\n21      2013-02-10\n22      2011-10-04\n23      2013-11-03\n24      2013-01-21\n25      2013-02-25\n26      2013-01-16\n27      2011-07-11\n28      2013-03-05\n29      2013-03-16\n           ...    \n59370   2013-01-29\n59371   2012-10-09\n59372   2012-10-31\n59373   2013-01-30\n59374   2012-10-29\n59375   2011-08-03\n59376   2013-02-03\n59377   2012-10-23\n59378   2011-03-21\n59379   2011-07-13\n59380   2011-03-14\n59381   2011-03-16\n59382   2013-08-03\n59383   2013-01-19\n59384   2011-07-10\n59385   2012-11-03\n59386   2011-08-22\n59387   2013-03-12\n59388   2013-01-29\n59389   2011-08-06\n59390   2011-08-04\n59391   2013-08-03\n59392   2011-04-15\n59393   2012-10-27\n59394   2011-03-09\n59395   2013-05-03\n59396   2011-05-07\n59397   2011-04-11\n59398   2011-03-08\n59399   2011-03-23\nName: date_recorded, Length: 59400, dtype: datetime64[ns]"
          },
          "metadata": {}
        }
      ]
    },
    {
      "metadata": {
        "trusted": true,
        "_uuid": "ded6552c473d597842dd7adfbe9d1ca1bebbb465"
      },
      "cell_type": "code",
      "source": "train.dtypes",
      "execution_count": 28,
      "outputs": [
        {
          "output_type": "execute_result",
          "execution_count": 28,
          "data": {
            "text/plain": "id                         int64\namount_tsh               float64\ndate_recorded             object\nfunder                    object\ngps_height                 int64\ninstaller                 object\nlongitude                float64\nlatitude                 float64\nwpt_name                  object\nnum_private                int64\nbasin                     object\nsubvillage                object\nregion                    object\nregion_code                int64\ndistrict_code              int64\nlga                       object\nward                      object\npopulation                 int64\npublic_meeting            object\nrecorded_by               object\nscheme_management         object\nscheme_name               object\npermit                    object\nconstruction_year          int64\nextraction_type           object\nextraction_type_group     object\nextraction_type_class     object\nmanagement                object\nmanagement_group          object\npayment                   object\npayment_type              object\nwater_quality             object\nquality_group             object\nquantity                  object\nquantity_group            object\nsource                    object\nsource_type               object\nsource_class              object\nwaterpoint_type           object\nwaterpoint_type_group     object\ndtype: object"
          },
          "metadata": {}
        }
      ]
    },
    {
      "metadata": {
        "trusted": true,
        "_uuid": "5b14acef565a58ea0cc1826f0cfc01ebb93d103d"
      },
      "cell_type": "code",
      "source": "train.fillna(train.mean(),inplace=True)",
      "execution_count": 32,
      "outputs": []
    },
    {
      "metadata": {
        "trusted": true,
        "_uuid": "0e94b30a69360407dcffe0a9a45d8e3cf1580b01"
      },
      "cell_type": "code",
      "source": "train.isnull().sum()",
      "execution_count": 33,
      "outputs": [
        {
          "output_type": "execute_result",
          "execution_count": 33,
          "data": {
            "text/plain": "id                           0\namount_tsh                   0\ndate_recorded                0\nfunder                    3635\ngps_height                   0\ninstaller                 3655\nlongitude                    0\nlatitude                     0\nwpt_name                     0\nnum_private                  0\nbasin                        0\nsubvillage                 371\nregion                       0\nregion_code                  0\ndistrict_code                0\nlga                          0\nward                         0\npopulation                   0\npublic_meeting               0\nrecorded_by                  0\nscheme_management         3877\nscheme_name              28166\npermit                       0\nconstruction_year            0\nextraction_type              0\nextraction_type_group        0\nextraction_type_class        0\nmanagement                   0\nmanagement_group             0\npayment                      0\npayment_type                 0\nwater_quality                0\nquality_group                0\nquantity                     0\nquantity_group               0\nsource                       0\nsource_type                  0\nsource_class                 0\nwaterpoint_type              0\nwaterpoint_type_group        0\ndtype: int64"
          },
          "metadata": {}
        }
      ]
    },
    {
      "metadata": {
        "trusted": true,
        "_uuid": "a937dc9dce8558716a81ec2a2f3cfe46b8593d38"
      },
      "cell_type": "code",
      "source": "df=pd.merge(train, train_set)",
      "execution_count": 34,
      "outputs": []
    },
    {
      "metadata": {
        "trusted": true,
        "_uuid": "1338666894e4c295d231c91f0c4aea187f832820"
      },
      "cell_type": "code",
      "source": "df.dtypes",
      "execution_count": 35,
      "outputs": [
        {
          "output_type": "execute_result",
          "execution_count": 35,
          "data": {
            "text/plain": "id                         int64\namount_tsh               float64\ndate_recorded             object\nfunder                    object\ngps_height                 int64\ninstaller                 object\nlongitude                float64\nlatitude                 float64\nwpt_name                  object\nnum_private                int64\nbasin                     object\nsubvillage                object\nregion                    object\nregion_code                int64\ndistrict_code              int64\nlga                       object\nward                      object\npopulation                 int64\npublic_meeting            object\nrecorded_by               object\nscheme_management         object\nscheme_name               object\npermit                    object\nconstruction_year          int64\nextraction_type           object\nextraction_type_group     object\nextraction_type_class     object\nmanagement                object\nmanagement_group          object\npayment                   object\npayment_type              object\nwater_quality             object\nquality_group             object\nquantity                  object\nquantity_group            object\nsource                    object\nsource_type               object\nsource_class              object\nwaterpoint_type           object\nwaterpoint_type_group     object\nstatus_group              object\ndtype: object"
          },
          "metadata": {}
        }
      ]
    },
    {
      "metadata": {
        "trusted": true,
        "_uuid": "efcb4fb7a671dbbe99f158c16ed6aeabcff6677e"
      },
      "cell_type": "code",
      "source": "",
      "execution_count": null,
      "outputs": []
    },
    {
      "metadata": {
        "trusted": true,
        "_uuid": "69b8a1a27d7a6337bd7429e9d929367d061af130"
      },
      "cell_type": "code",
      "source": "df.columns",
      "execution_count": 40,
      "outputs": [
        {
          "output_type": "execute_result",
          "execution_count": 40,
          "data": {
            "text/plain": "Index(['id', 'amount_tsh', 'date_recorded', 'funder', 'gps_height',\n       'installer', 'longitude', 'latitude', 'wpt_name', 'num_private',\n       'basin', 'subvillage', 'region', 'region_code', 'district_code', 'lga',\n       'ward', 'population', 'public_meeting', 'recorded_by',\n       'scheme_management', 'scheme_name', 'permit', 'construction_year',\n       'extraction_type', 'extraction_type_group', 'extraction_type_class',\n       'management', 'management_group', 'payment', 'payment_type',\n       'water_quality', 'quality_group', 'quantity', 'quantity_group',\n       'source', 'source_type', 'source_class', 'waterpoint_type',\n       'waterpoint_type_group', 'status_group'],\n      dtype='object')"
          },
          "metadata": {}
        }
      ]
    },
    {
      "metadata": {
        "trusted": true,
        "_uuid": "7671f92efe73c81afa05e06e87f01c3a21927712"
      },
      "cell_type": "code",
      "source": "df.drop('date_recorded', axis=1, inplace=True)",
      "execution_count": 41,
      "outputs": []
    },
    {
      "metadata": {
        "trusted": true,
        "_uuid": "e6a14c73af0aa2dae6fceb5744d1d22c00dc25eb"
      },
      "cell_type": "code",
      "source": "df.drop('construction_year', axis=1, inplace=True)",
      "execution_count": 42,
      "outputs": []
    },
    {
      "metadata": {
        "trusted": true,
        "_uuid": "618666d40d284b61f001a8a9bc090dc8f35fb76a"
      },
      "cell_type": "code",
      "source": "df.columns",
      "execution_count": 43,
      "outputs": [
        {
          "output_type": "execute_result",
          "execution_count": 43,
          "data": {
            "text/plain": "Index(['id', 'amount_tsh', 'funder', 'gps_height', 'installer', 'longitude',\n       'latitude', 'wpt_name', 'num_private', 'basin', 'subvillage', 'region',\n       'region_code', 'district_code', 'lga', 'ward', 'population',\n       'public_meeting', 'recorded_by', 'scheme_management', 'scheme_name',\n       'permit', 'extraction_type', 'extraction_type_group',\n       'extraction_type_class', 'management', 'management_group', 'payment',\n       'payment_type', 'water_quality', 'quality_group', 'quantity',\n       'quantity_group', 'source', 'source_type', 'source_class',\n       'waterpoint_type', 'waterpoint_type_group', 'status_group'],\n      dtype='object')"
          },
          "metadata": {}
        }
      ]
    },
    {
      "metadata": {
        "trusted": true,
        "_uuid": "d3782dcbbfb786f66a2ea00500dd261ff4c24283"
      },
      "cell_type": "code",
      "source": "df['funder']=pd.factorize(df['funder'])[0]\ndf['installer']=pd.factorize(df['installer'])[0]\ndf['wpt_name']=pd.factorize(df['wpt_name'])[0]\ndf['subvillage']=pd.factorize(df['subvillage'])[0]\ndf['region']=pd.factorize(df['region'])[0]\ndf['lga']=pd.factorize(df['lga'])[0]\ndf['public_meeting']=pd.factorize(df['public_meeting'])[0]\ndf['public_meeting']=pd.factorize(df['public_meeting'])[0]\ndf['recorded_by']=pd.factorize(df['public_meeting'])[0]\n",
      "execution_count": 73,
      "outputs": []
    },
    {
      "metadata": {
        "trusted": true,
        "_uuid": "85edf6783e583259576cfec5f515c2ee15579c95"
      },
      "cell_type": "code",
      "source": "df.dtypes",
      "execution_count": 76,
      "outputs": [
        {
          "output_type": "execute_result",
          "execution_count": 76,
          "data": {
            "text/plain": "id                         int64\namount_tsh               float64\nfunder                     int64\ngps_height                 int64\ninstaller                  int64\nlongitude                float64\nlatitude                 float64\nwpt_name                   int64\nnum_private                int64\nbasin                     object\nsubvillage                 int64\nregion                     int64\nregion_code                int64\ndistrict_code              int64\nlga                        int64\nward                      object\npopulation                 int64\npublic_meeting             int64\nrecorded_by                int64\nscheme_management         object\nscheme_name               object\npermit                    object\nextraction_type           object\nextraction_type_group     object\nextraction_type_class     object\nmanagement                object\nmanagement_group          object\npayment                   object\npayment_type              object\nwater_quality             object\nquality_group             object\nquantity                  object\nquantity_group            object\nsource                    object\nsource_type               object\nsource_class              object\nwaterpoint_type           object\nwaterpoint_type_group     object\nstatus_group              object\ndtype: object"
          },
          "metadata": {}
        }
      ]
    },
    {
      "metadata": {
        "trusted": true,
        "_uuid": "3e22f6da014e8016ea0b8b14d35b73c668fe3a6d"
      },
      "cell_type": "code",
      "source": "df.columns",
      "execution_count": 77,
      "outputs": [
        {
          "output_type": "execute_result",
          "execution_count": 77,
          "data": {
            "text/plain": "Index(['id', 'amount_tsh', 'funder', 'gps_height', 'installer', 'longitude',\n       'latitude', 'wpt_name', 'num_private', 'basin', 'subvillage', 'region',\n       'region_code', 'district_code', 'lga', 'ward', 'population',\n       'public_meeting', 'recorded_by', 'scheme_management', 'scheme_name',\n       'permit', 'extraction_type', 'extraction_type_group',\n       'extraction_type_class', 'management', 'management_group', 'payment',\n       'payment_type', 'water_quality', 'quality_group', 'quantity',\n       'quantity_group', 'source', 'source_type', 'source_class',\n       'waterpoint_type', 'waterpoint_type_group', 'status_group'],\n      dtype='object')"
          },
          "metadata": {}
        }
      ]
    },
    {
      "metadata": {
        "trusted": true,
        "_uuid": "9da532d5466b10a970ae13b61bb2460097a7afe9"
      },
      "cell_type": "code",
      "source": "ff=['scheme_management', 'scheme_name',\n       'permit', 'extraction_type', 'extraction_type_group',\n       'extraction_type_class', 'management', 'management_group', 'payment',\n       'payment_type', 'water_quality', 'quality_group', 'quantity',\n       'quantity_group', 'source', 'source_type', 'source_class',\n       'waterpoint_type', 'waterpoint_type_group', 'status_group']",
      "execution_count": 78,
      "outputs": []
    },
    {
      "metadata": {
        "trusted": true,
        "_uuid": "ba6c4bdacfc88bfb2be6b11c81c620a4955d17e5"
      },
      "cell_type": "code",
      "source": "df['scheme_management']=pd.factorize(df['scheme_management'])[0]\ndf['scheme_name']=pd.factorize(df['scheme_name'])[0]\ndf['permit']=pd.factorize(df['permit'])[0]\ndf['extraction_type']=pd.factorize(df['extraction_type'])[0]\ndf['management']=pd.factorize(df['management'])[0]\ndf['management_group']=pd.factorize(df['management_group'])[0]\ndf['payment']=pd.factorize(df['payment'])[0]\ndf['payment_type']=pd.factorize(df['payment_type'])[0]\ndf['water_quality']=pd.factorize(df['water_quality'])[0]\ndf['quality_group']=pd.factorize(df['quality_group'])[0]\ndf['quantity']=pd.factorize(df['quantity'])[0]\ndf['quantity_group']=pd.factorize(df['quantity_group'])[0]\ndf['source']=pd.factorize(df['source'])[0]\ndf['source_type']=pd.factorize(df['source_type'])[0]\ndf['source_class']=pd.factorize(df['source_class'])[0]\ndf['waterpoint_type']=pd.factorize(df['waterpoint_type'])[0]\ndf['waterpoint_type_group']=pd.factorize(df['waterpoint_type_group'])[0]\ndf['status_group']=pd.factorize(df['status_group'])[0]\ndf['extraction_type_group']=pd.factorize(df['extraction_type_group'])[0]\ndf['extraction_type_class']=pd.factorize(df['extraction_type_class'])[0]\ndf['basin']=pd.factorize(df['basin'])[0]\ndf['ward']=pd.factorize(df['ward'])[0]\n\n\n",
      "execution_count": 88,
      "outputs": []
    },
    {
      "metadata": {
        "trusted": true,
        "_uuid": "696c4ab4dce09fe866d4aea0e89f0a80cc92a20c"
      },
      "cell_type": "code",
      "source": "X=df.drop('status_group', axis=1)",
      "execution_count": 90,
      "outputs": []
    },
    {
      "metadata": {
        "trusted": true,
        "_uuid": "8f87d9a8027368358b9fa6811973d23a228ba248"
      },
      "cell_type": "code",
      "source": "X.shape",
      "execution_count": 91,
      "outputs": [
        {
          "output_type": "execute_result",
          "execution_count": 91,
          "data": {
            "text/plain": "(59400, 38)"
          },
          "metadata": {}
        }
      ]
    },
    {
      "metadata": {
        "trusted": true,
        "_uuid": "4f0c923f8cca6c4e8c3aacf252892907335f1864"
      },
      "cell_type": "code",
      "source": "y=df['status_group']",
      "execution_count": 92,
      "outputs": []
    },
    {
      "metadata": {
        "trusted": true,
        "_uuid": "77c06a584d17e3505eca9cbeabb29e12302571ee"
      },
      "cell_type": "code",
      "source": "y.shape",
      "execution_count": 93,
      "outputs": [
        {
          "output_type": "execute_result",
          "execution_count": 93,
          "data": {
            "text/plain": "(59400,)"
          },
          "metadata": {}
        }
      ]
    },
    {
      "metadata": {
        "trusted": true,
        "_uuid": "631e1344608416cf9d5c4514a2ba502170e7e4ff"
      },
      "cell_type": "code",
      "source": "from sklearn.ensemble import RandomForestClassifier",
      "execution_count": 94,
      "outputs": []
    },
    {
      "metadata": {
        "trusted": true,
        "_uuid": "3b79548568eae58e67b58c0f3c394540855fd1b7"
      },
      "cell_type": "code",
      "source": "from sklearn.model_selection import train_test_split",
      "execution_count": 95,
      "outputs": []
    },
    {
      "metadata": {
        "trusted": true,
        "_uuid": "d4a9c4a769843967afffa5762d3faadd2e6e3111"
      },
      "cell_type": "code",
      "source": "X_train, y_train,X_test, y_test=train_test_split(X, y, random_state=0)",
      "execution_count": 97,
      "outputs": []
    },
    {
      "metadata": {
        "trusted": true,
        "_uuid": "5ac10edee7edee59dfa9d4d6d8385a80fafdd969"
      },
      "cell_type": "code",
      "source": "rfc=RandomForestClassifier()\nrfc.fit(X_train, y_train)",
      "execution_count": 122,
      "outputs": [
        {
          "output_type": "error",
          "ename": "ValueError",
          "evalue": "Unknown label type: 'continuous-multioutput'",
          "traceback": [
            "\u001b[0;31m---------------------------------------------------------------------------\u001b[0m",
            "\u001b[0;31mValueError\u001b[0m                                Traceback (most recent call last)",
            "\u001b[0;32m<ipython-input-122-9de468d36a6c>\u001b[0m in \u001b[0;36m<module>\u001b[0;34m\u001b[0m\n\u001b[1;32m      1\u001b[0m \u001b[0mrfc\u001b[0m\u001b[0;34m=\u001b[0m\u001b[0mRandomForestClassifier\u001b[0m\u001b[0;34m(\u001b[0m\u001b[0;34m)\u001b[0m\u001b[0;34m\u001b[0m\u001b[0m\n\u001b[0;32m----> 2\u001b[0;31m \u001b[0mrfc\u001b[0m\u001b[0;34m.\u001b[0m\u001b[0mfit\u001b[0m\u001b[0;34m(\u001b[0m\u001b[0mX_train\u001b[0m\u001b[0;34m,\u001b[0m \u001b[0my_train\u001b[0m\u001b[0;34m)\u001b[0m\u001b[0;34m\u001b[0m\u001b[0m\n\u001b[0m",
            "\u001b[0;32m/opt/conda/lib/python3.6/site-packages/sklearn/ensemble/forest.py\u001b[0m in \u001b[0;36mfit\u001b[0;34m(self, X, y, sample_weight)\u001b[0m\n\u001b[1;32m    271\u001b[0m         \u001b[0mself\u001b[0m\u001b[0;34m.\u001b[0m\u001b[0mn_outputs_\u001b[0m \u001b[0;34m=\u001b[0m \u001b[0my\u001b[0m\u001b[0;34m.\u001b[0m\u001b[0mshape\u001b[0m\u001b[0;34m[\u001b[0m\u001b[0;36m1\u001b[0m\u001b[0;34m]\u001b[0m\u001b[0;34m\u001b[0m\u001b[0m\n\u001b[1;32m    272\u001b[0m \u001b[0;34m\u001b[0m\u001b[0m\n\u001b[0;32m--> 273\u001b[0;31m         \u001b[0my\u001b[0m\u001b[0;34m,\u001b[0m \u001b[0mexpanded_class_weight\u001b[0m \u001b[0;34m=\u001b[0m \u001b[0mself\u001b[0m\u001b[0;34m.\u001b[0m\u001b[0m_validate_y_class_weight\u001b[0m\u001b[0;34m(\u001b[0m\u001b[0my\u001b[0m\u001b[0;34m)\u001b[0m\u001b[0;34m\u001b[0m\u001b[0m\n\u001b[0m\u001b[1;32m    274\u001b[0m \u001b[0;34m\u001b[0m\u001b[0m\n\u001b[1;32m    275\u001b[0m         \u001b[0;32mif\u001b[0m \u001b[0mgetattr\u001b[0m\u001b[0;34m(\u001b[0m\u001b[0my\u001b[0m\u001b[0;34m,\u001b[0m \u001b[0;34m\"dtype\"\u001b[0m\u001b[0;34m,\u001b[0m \u001b[0;32mNone\u001b[0m\u001b[0;34m)\u001b[0m \u001b[0;34m!=\u001b[0m \u001b[0mDOUBLE\u001b[0m \u001b[0;32mor\u001b[0m \u001b[0;32mnot\u001b[0m \u001b[0my\u001b[0m\u001b[0;34m.\u001b[0m\u001b[0mflags\u001b[0m\u001b[0;34m.\u001b[0m\u001b[0mcontiguous\u001b[0m\u001b[0;34m:\u001b[0m\u001b[0;34m\u001b[0m\u001b[0m\n",
            "\u001b[0;32m/opt/conda/lib/python3.6/site-packages/sklearn/ensemble/forest.py\u001b[0m in \u001b[0;36m_validate_y_class_weight\u001b[0;34m(self, y)\u001b[0m\n\u001b[1;32m    469\u001b[0m \u001b[0;34m\u001b[0m\u001b[0m\n\u001b[1;32m    470\u001b[0m     \u001b[0;32mdef\u001b[0m \u001b[0m_validate_y_class_weight\u001b[0m\u001b[0;34m(\u001b[0m\u001b[0mself\u001b[0m\u001b[0;34m,\u001b[0m \u001b[0my\u001b[0m\u001b[0;34m)\u001b[0m\u001b[0;34m:\u001b[0m\u001b[0;34m\u001b[0m\u001b[0m\n\u001b[0;32m--> 471\u001b[0;31m         \u001b[0mcheck_classification_targets\u001b[0m\u001b[0;34m(\u001b[0m\u001b[0my\u001b[0m\u001b[0;34m)\u001b[0m\u001b[0;34m\u001b[0m\u001b[0m\n\u001b[0m\u001b[1;32m    472\u001b[0m \u001b[0;34m\u001b[0m\u001b[0m\n\u001b[1;32m    473\u001b[0m         \u001b[0my\u001b[0m \u001b[0;34m=\u001b[0m \u001b[0mnp\u001b[0m\u001b[0;34m.\u001b[0m\u001b[0mcopy\u001b[0m\u001b[0;34m(\u001b[0m\u001b[0my\u001b[0m\u001b[0;34m)\u001b[0m\u001b[0;34m\u001b[0m\u001b[0m\n",
            "\u001b[0;32m/opt/conda/lib/python3.6/site-packages/sklearn/utils/multiclass.py\u001b[0m in \u001b[0;36mcheck_classification_targets\u001b[0;34m(y)\u001b[0m\n\u001b[1;32m    170\u001b[0m     if y_type not in ['binary', 'multiclass', 'multiclass-multioutput',\n\u001b[1;32m    171\u001b[0m                       'multilabel-indicator', 'multilabel-sequences']:\n\u001b[0;32m--> 172\u001b[0;31m         \u001b[0;32mraise\u001b[0m \u001b[0mValueError\u001b[0m\u001b[0;34m(\u001b[0m\u001b[0;34m\"Unknown label type: %r\"\u001b[0m \u001b[0;34m%\u001b[0m \u001b[0my_type\u001b[0m\u001b[0;34m)\u001b[0m\u001b[0;34m\u001b[0m\u001b[0m\n\u001b[0m\u001b[1;32m    173\u001b[0m \u001b[0;34m\u001b[0m\u001b[0m\n\u001b[1;32m    174\u001b[0m \u001b[0;34m\u001b[0m\u001b[0m\n",
            "\u001b[0;31mValueError\u001b[0m: Unknown label type: 'continuous-multioutput'"
          ]
        }
      ]
    },
    {
      "metadata": {
        "trusted": true,
        "_uuid": "72c4bcae540f6b00fa687bcb7818a5f885f36173"
      },
      "cell_type": "code",
      "source": "X.columns",
      "execution_count": 117,
      "outputs": [
        {
          "output_type": "execute_result",
          "execution_count": 117,
          "data": {
            "text/plain": "Index(['id', 'amount_tsh', 'funder', 'gps_height', 'installer', 'longitude',\n       'latitude', 'wpt_name', 'num_private', 'basin', 'subvillage', 'region',\n       'region_code', 'district_code', 'lga', 'ward', 'population',\n       'public_meeting', 'recorded_by', 'scheme_management', 'scheme_name',\n       'permit', 'extraction_type', 'extraction_type_group',\n       'extraction_type_class', 'management', 'management_group', 'payment',\n       'payment_type', 'water_quality', 'quality_group', 'quantity',\n       'quantity_group', 'source', 'source_type', 'source_class',\n       'waterpoint_type', 'waterpoint_type_group'],\n      dtype='object')"
          },
          "metadata": {}
        }
      ]
    },
    {
      "metadata": {
        "trusted": true,
        "_uuid": "d990b56cac3322393fb4d507ac61143cdf01f527"
      },
      "cell_type": "code",
      "source": "X.drop('longitude', axis=1, inplace=True)\nX.drop('latitude', axis=1, inplace=True)",
      "execution_count": 120,
      "outputs": []
    },
    {
      "metadata": {
        "trusted": true,
        "_uuid": "44344d0add4d8b63593c6f0b0b9fbe5cccf5803e"
      },
      "cell_type": "code",
      "source": "from sklearn.svm import SVC",
      "execution_count": 123,
      "outputs": []
    },
    {
      "metadata": {
        "trusted": true,
        "_uuid": "8d7617cf191667386bdaf195364feddb698f71e2"
      },
      "cell_type": "code",
      "source": "clf=SVC()\nclf.fit(X_train, y_train)",
      "execution_count": 124,
      "outputs": [
        {
          "output_type": "error",
          "ename": "ValueError",
          "evalue": "bad input shape (14850, 38)",
          "traceback": [
            "\u001b[0;31m---------------------------------------------------------------------------\u001b[0m",
            "\u001b[0;31mValueError\u001b[0m                                Traceback (most recent call last)",
            "\u001b[0;32m<ipython-input-124-f1ee18e13bf8>\u001b[0m in \u001b[0;36m<module>\u001b[0;34m\u001b[0m\n\u001b[1;32m      1\u001b[0m \u001b[0mclf\u001b[0m\u001b[0;34m=\u001b[0m\u001b[0mSVC\u001b[0m\u001b[0;34m(\u001b[0m\u001b[0;34m)\u001b[0m\u001b[0;34m\u001b[0m\u001b[0m\n\u001b[0;32m----> 2\u001b[0;31m \u001b[0mclf\u001b[0m\u001b[0;34m.\u001b[0m\u001b[0mfit\u001b[0m\u001b[0;34m(\u001b[0m\u001b[0mX_train\u001b[0m\u001b[0;34m,\u001b[0m \u001b[0my_train\u001b[0m\u001b[0;34m)\u001b[0m\u001b[0;34m\u001b[0m\u001b[0m\n\u001b[0m",
            "\u001b[0;32m/opt/conda/lib/python3.6/site-packages/sklearn/svm/base.py\u001b[0m in \u001b[0;36mfit\u001b[0;34m(self, X, y, sample_weight)\u001b[0m\n\u001b[1;32m    147\u001b[0m         \u001b[0mself\u001b[0m\u001b[0;34m.\u001b[0m\u001b[0m_sparse\u001b[0m \u001b[0;34m=\u001b[0m \u001b[0msparse\u001b[0m \u001b[0;32mand\u001b[0m \u001b[0;32mnot\u001b[0m \u001b[0mcallable\u001b[0m\u001b[0;34m(\u001b[0m\u001b[0mself\u001b[0m\u001b[0;34m.\u001b[0m\u001b[0mkernel\u001b[0m\u001b[0;34m)\u001b[0m\u001b[0;34m\u001b[0m\u001b[0m\n\u001b[1;32m    148\u001b[0m \u001b[0;34m\u001b[0m\u001b[0m\n\u001b[0;32m--> 149\u001b[0;31m         \u001b[0mX\u001b[0m\u001b[0;34m,\u001b[0m \u001b[0my\u001b[0m \u001b[0;34m=\u001b[0m \u001b[0mcheck_X_y\u001b[0m\u001b[0;34m(\u001b[0m\u001b[0mX\u001b[0m\u001b[0;34m,\u001b[0m \u001b[0my\u001b[0m\u001b[0;34m,\u001b[0m \u001b[0mdtype\u001b[0m\u001b[0;34m=\u001b[0m\u001b[0mnp\u001b[0m\u001b[0;34m.\u001b[0m\u001b[0mfloat64\u001b[0m\u001b[0;34m,\u001b[0m \u001b[0morder\u001b[0m\u001b[0;34m=\u001b[0m\u001b[0;34m'C'\u001b[0m\u001b[0;34m,\u001b[0m \u001b[0maccept_sparse\u001b[0m\u001b[0;34m=\u001b[0m\u001b[0;34m'csr'\u001b[0m\u001b[0;34m)\u001b[0m\u001b[0;34m\u001b[0m\u001b[0m\n\u001b[0m\u001b[1;32m    150\u001b[0m         \u001b[0my\u001b[0m \u001b[0;34m=\u001b[0m \u001b[0mself\u001b[0m\u001b[0;34m.\u001b[0m\u001b[0m_validate_targets\u001b[0m\u001b[0;34m(\u001b[0m\u001b[0my\u001b[0m\u001b[0;34m)\u001b[0m\u001b[0;34m\u001b[0m\u001b[0m\n\u001b[1;32m    151\u001b[0m \u001b[0;34m\u001b[0m\u001b[0m\n",
            "\u001b[0;32m/opt/conda/lib/python3.6/site-packages/sklearn/utils/validation.py\u001b[0m in \u001b[0;36mcheck_X_y\u001b[0;34m(X, y, accept_sparse, dtype, order, copy, force_all_finite, ensure_2d, allow_nd, multi_output, ensure_min_samples, ensure_min_features, y_numeric, warn_on_dtype, estimator)\u001b[0m\n\u001b[1;32m    576\u001b[0m                         dtype=None)\n\u001b[1;32m    577\u001b[0m     \u001b[0;32melse\u001b[0m\u001b[0;34m:\u001b[0m\u001b[0;34m\u001b[0m\u001b[0m\n\u001b[0;32m--> 578\u001b[0;31m         \u001b[0my\u001b[0m \u001b[0;34m=\u001b[0m \u001b[0mcolumn_or_1d\u001b[0m\u001b[0;34m(\u001b[0m\u001b[0my\u001b[0m\u001b[0;34m,\u001b[0m \u001b[0mwarn\u001b[0m\u001b[0;34m=\u001b[0m\u001b[0;32mTrue\u001b[0m\u001b[0;34m)\u001b[0m\u001b[0;34m\u001b[0m\u001b[0m\n\u001b[0m\u001b[1;32m    579\u001b[0m         \u001b[0m_assert_all_finite\u001b[0m\u001b[0;34m(\u001b[0m\u001b[0my\u001b[0m\u001b[0;34m)\u001b[0m\u001b[0;34m\u001b[0m\u001b[0m\n\u001b[1;32m    580\u001b[0m     \u001b[0;32mif\u001b[0m \u001b[0my_numeric\u001b[0m \u001b[0;32mand\u001b[0m \u001b[0my\u001b[0m\u001b[0;34m.\u001b[0m\u001b[0mdtype\u001b[0m\u001b[0;34m.\u001b[0m\u001b[0mkind\u001b[0m \u001b[0;34m==\u001b[0m \u001b[0;34m'O'\u001b[0m\u001b[0;34m:\u001b[0m\u001b[0;34m\u001b[0m\u001b[0m\n",
            "\u001b[0;32m/opt/conda/lib/python3.6/site-packages/sklearn/utils/validation.py\u001b[0m in \u001b[0;36mcolumn_or_1d\u001b[0;34m(y, warn)\u001b[0m\n\u001b[1;32m    612\u001b[0m         \u001b[0;32mreturn\u001b[0m \u001b[0mnp\u001b[0m\u001b[0;34m.\u001b[0m\u001b[0mravel\u001b[0m\u001b[0;34m(\u001b[0m\u001b[0my\u001b[0m\u001b[0;34m)\u001b[0m\u001b[0;34m\u001b[0m\u001b[0m\n\u001b[1;32m    613\u001b[0m \u001b[0;34m\u001b[0m\u001b[0m\n\u001b[0;32m--> 614\u001b[0;31m     \u001b[0;32mraise\u001b[0m \u001b[0mValueError\u001b[0m\u001b[0;34m(\u001b[0m\u001b[0;34m\"bad input shape {0}\"\u001b[0m\u001b[0;34m.\u001b[0m\u001b[0mformat\u001b[0m\u001b[0;34m(\u001b[0m\u001b[0mshape\u001b[0m\u001b[0;34m)\u001b[0m\u001b[0;34m)\u001b[0m\u001b[0;34m\u001b[0m\u001b[0m\n\u001b[0m\u001b[1;32m    615\u001b[0m \u001b[0;34m\u001b[0m\u001b[0m\n\u001b[1;32m    616\u001b[0m \u001b[0;34m\u001b[0m\u001b[0m\n",
            "\u001b[0;31mValueError\u001b[0m: bad input shape (14850, 38)"
          ]
        }
      ]
    },
    {
      "metadata": {
        "trusted": true,
        "_uuid": "bc6c28c1b53a60459ed0f88ae7911ecbce0719ce"
      },
      "cell_type": "code",
      "source": "X, y = check_X_y(X, y, dtype=np.float64, order='C', accept_sparse='csr')",
      "execution_count": 125,
      "outputs": [
        {
          "output_type": "error",
          "ename": "NameError",
          "evalue": "name 'check_X_y' is not defined",
          "traceback": [
            "\u001b[0;31m---------------------------------------------------------------------------\u001b[0m",
            "\u001b[0;31mNameError\u001b[0m                                 Traceback (most recent call last)",
            "\u001b[0;32m<ipython-input-125-8d954a556cdd>\u001b[0m in \u001b[0;36m<module>\u001b[0;34m\u001b[0m\n\u001b[0;32m----> 1\u001b[0;31m \u001b[0mX\u001b[0m\u001b[0;34m,\u001b[0m \u001b[0my\u001b[0m \u001b[0;34m=\u001b[0m \u001b[0mcheck_X_y\u001b[0m\u001b[0;34m(\u001b[0m\u001b[0mX\u001b[0m\u001b[0;34m,\u001b[0m \u001b[0my\u001b[0m\u001b[0;34m,\u001b[0m \u001b[0mdtype\u001b[0m\u001b[0;34m=\u001b[0m\u001b[0mnp\u001b[0m\u001b[0;34m.\u001b[0m\u001b[0mfloat64\u001b[0m\u001b[0;34m,\u001b[0m \u001b[0morder\u001b[0m\u001b[0;34m=\u001b[0m\u001b[0;34m'C'\u001b[0m\u001b[0;34m,\u001b[0m \u001b[0maccept_sparse\u001b[0m\u001b[0;34m=\u001b[0m\u001b[0;34m'csr'\u001b[0m\u001b[0;34m)\u001b[0m\u001b[0;34m\u001b[0m\u001b[0m\n\u001b[0m",
            "\u001b[0;31mNameError\u001b[0m: name 'check_X_y' is not defined"
          ]
        }
      ]
    },
    {
      "metadata": {
        "trusted": true,
        "_uuid": "0bf0f2394edc09477973c66a1bdcf73c52f75500"
      },
      "cell_type": "code",
      "source": "",
      "execution_count": null,
      "outputs": []
    }
  ],
  "metadata": {
    "kernelspec": {
      "display_name": "Python 3",
      "language": "python",
      "name": "python3"
    },
    "language_info": {
      "name": "python",
      "version": "3.6.6",
      "mimetype": "text/x-python",
      "codemirror_mode": {
        "name": "ipython",
        "version": 3
      },
      "pygments_lexer": "ipython3",
      "nbconvert_exporter": "python",
      "file_extension": ".py"
    }
  },
  "nbformat": 4,
  "nbformat_minor": 1
}